{
 "cells": [
  {
   "cell_type": "code",
   "execution_count": 17,
   "metadata": {},
   "outputs": [],
   "source": [
    "from h5tojson import h5_to_dict\n",
    "import gzip\n",
    "\n",
    "# add .. to the system path so we can import the module\n",
    "import sys\n",
    "sys.path.append(\"..\")\n",
    "\n",
    "from workflow_scripts.dandi_nwb_meta import load_existing_output_from_bucket"
   ]
  },
  {
   "cell_type": "code",
   "execution_count": 18,
   "metadata": {},
   "outputs": [
    {
     "name": "stdout",
     "output_type": "stream",
     "text": [
      "sub-F/sub-F_obj-4vkwbz_ecephys.nwb\n",
      "/processing/ecephys/units\n",
      "sub-F/sub-F_obj-34uga6_ecephys.nwb\n",
      "sub-F/sub-F_ses-20230917_obj-4vkwbz_ecephys.nwb\n",
      "/processing/ecephys/units\n",
      "sub-F/sub-F_ses-20230921_obj-1hh75ss_ecephys.nwb\n",
      "/processing/ecephys/units\n",
      "sub-F/sub-F_ses-20230917_obj-34uga6_ecephys.nwb\n",
      "sub-F/sub-F_ses-20230921_obj-45qv8v_ecephys.nwb\n"
     ]
    }
   ],
   "source": [
    "# Find out which nwb files have Units nwb type\n",
    "dandiset_id = \"000784\"\n",
    "X = load_existing_output_from_bucket(dandiset_id)\n",
    "for nwb_asset in X.nwb_assets[:10]:\n",
    "    print(nwb_asset.asset_path)\n",
    "    groups, datasets = nwb_asset.nwb_metadata.get_all_groups_and_datasets()\n",
    "    for group_path, group in groups.items():\n",
    "        if 'neurodata_type' in group.attributes:\n",
    "            ndt = group.attributes['neurodata_type']\n",
    "            if ndt == 'Units':\n",
    "                print(group_path)"
   ]
  },
  {
   "cell_type": "code",
   "execution_count": null,
   "metadata": {},
   "outputs": [],
   "source": []
  }
 ],
 "metadata": {
  "kernelspec": {
   "display_name": "Python 3",
   "language": "python",
   "name": "python3"
  },
  "language_info": {
   "codemirror_mode": {
    "name": "ipython",
    "version": 3
   },
   "file_extension": ".py",
   "mimetype": "text/x-python",
   "name": "python",
   "nbconvert_exporter": "python",
   "pygments_lexer": "ipython3",
   "version": "3.10.13"
  }
 },
 "nbformat": 4,
 "nbformat_minor": 2
}
